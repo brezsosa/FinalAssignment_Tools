{
 "cells": [
  {
   "cell_type": "markdown",
   "id": "7e2db8c2",
   "metadata": {},
   "source": [
    "# Data Science Tools and Ecosystem"
   ]
  },
  {
   "cell_type": "markdown",
   "id": "d93fba9c",
   "metadata": {},
   "source": [
    "In this notebook, Data Science Tools and Ecosystem are summarized."
   ]
  },
  {
   "cell_type": "markdown",
   "id": "d16139c6",
   "metadata": {},
   "source": [
    "**Objectives:**\n",
    "    \n",
    "    * List popular languages for Data Sciencists\n",
    "    * List commonly used libraries by Data Scientists\n",
    "    * Make simple arithmetic operations"
   ]
  },
  {
   "cell_type": "markdown",
   "id": "0f6ec222",
   "metadata": {},
   "source": [
    "Some of the popular languages that Data Scientists use are:\n",
    "\n",
    "    1. Python\n",
    "    2. R\n",
    "    3. C++"
   ]
  },
  {
   "cell_type": "markdown",
   "id": "53f2ea73",
   "metadata": {},
   "source": [
    "Some of the commonly used libraries used by Data Scientists include:\n",
    "    \n",
    "    1. ggplot2\n",
    "    2. NumPy\n",
    "    3. Pandas\n",
    "    "
   ]
  },
  {
   "cell_type": "markdown",
   "id": "9159929c",
   "metadata": {},
   "source": [
    "| Data Science Tools |\n",
    "| ------------------ |\n",
    "| VisualStudio Code  |\n",
    "| R Studio |\n",
    "|Jupyter Notebook |"
   ]
  },
  {
   "cell_type": "markdown",
   "id": "7a898759",
   "metadata": {},
   "source": [
    "### Below are a few examples of evaluating arithmetic expressions in Python"
   ]
  },
  {
   "cell_type": "code",
   "execution_count": 2,
   "id": "13ca8f77",
   "metadata": {},
   "outputs": [
    {
     "data": {
      "text/plain": [
       "17"
      ]
     },
     "execution_count": 2,
     "metadata": {},
     "output_type": "execute_result"
    }
   ],
   "source": [
    "## This is a simple arithmetic expression to multiply then add integers\n",
    "\n",
    "(3*4) + 5"
   ]
  },
  {
   "cell_type": "code",
   "execution_count": 3,
   "id": "3cb9ef01",
   "metadata": {},
   "outputs": [
    {
     "data": {
      "text/plain": [
       "3.3333333333333335"
      ]
     },
     "execution_count": 3,
     "metadata": {},
     "output_type": "execute_result"
    }
   ],
   "source": [
    "## This will convert 200 minutes to hours by dividing by 60\n",
    "\n",
    "200/60"
   ]
  },
  {
   "cell_type": "markdown",
   "id": "4d77af9e",
   "metadata": {},
   "source": [
    "## Author\n",
    "Braian Sosa"
   ]
  },
  {
   "cell_type": "code",
   "execution_count": null,
   "id": "0501fcbf",
   "metadata": {},
   "outputs": [],
   "source": []
  }
 ],
 "metadata": {
  "kernelspec": {
   "display_name": "Python 3 (ipykernel)",
   "language": "python",
   "name": "python3"
  },
  "language_info": {
   "codemirror_mode": {
    "name": "ipython",
    "version": 3
   },
   "file_extension": ".py",
   "mimetype": "text/x-python",
   "name": "python",
   "nbconvert_exporter": "python",
   "pygments_lexer": "ipython3",
   "version": "3.10.9"
  }
 },
 "nbformat": 4,
 "nbformat_minor": 5
}
